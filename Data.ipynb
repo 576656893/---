{
 "cells": [
  {
   "cell_type": "code",
   "execution_count": 2,
   "metadata": {},
   "outputs": [],
   "source": [
    "import numpy as np\n",
    "import pandas as pd"
   ]
  },
  {
   "cell_type": "code",
   "execution_count": 2,
   "metadata": {},
   "outputs": [],
   "source": [
    "data = pd.read_excel('人口.xlsx')"
   ]
  },
  {
   "cell_type": "code",
   "execution_count": 7,
   "metadata": {},
   "outputs": [
    {
     "data": {
      "text/html": [
       "<div>\n",
       "<style scoped>\n",
       "    .dataframe tbody tr th:only-of-type {\n",
       "        vertical-align: middle;\n",
       "    }\n",
       "\n",
       "    .dataframe tbody tr th {\n",
       "        vertical-align: top;\n",
       "    }\n",
       "\n",
       "    .dataframe thead th {\n",
       "        text-align: right;\n",
       "    }\n",
       "</style>\n",
       "<table border=\"1\" class=\"dataframe\">\n",
       "  <thead>\n",
       "    <tr style=\"text-align: right;\">\n",
       "      <th></th>\n",
       "      <th>年份</th>\n",
       "      <th>城镇人口数</th>\n",
       "      <th>乡村人口数</th>\n",
       "      <th>城乡人口比例</th>\n",
       "      <th>每十万人中受大专及以上教育人口</th>\n",
       "      <th>每十万人中受高中和中专教育人口</th>\n",
       "      <th>每十万人中受初中教育人口</th>\n",
       "      <th>每十万人中受小学教育人口</th>\n",
       "    </tr>\n",
       "  </thead>\n",
       "  <tbody>\n",
       "    <tr>\n",
       "      <th>0</th>\n",
       "      <td>2020</td>\n",
       "      <td>90199</td>\n",
       "      <td>50979</td>\n",
       "      <td>1.769336</td>\n",
       "      <td>15467.0</td>\n",
       "      <td>15088.0</td>\n",
       "      <td>34507.0</td>\n",
       "      <td>24767.0</td>\n",
       "    </tr>\n",
       "    <tr>\n",
       "      <th>1</th>\n",
       "      <td>2010</td>\n",
       "      <td>66557</td>\n",
       "      <td>67419</td>\n",
       "      <td>0.987214</td>\n",
       "      <td>8930.0</td>\n",
       "      <td>14032.0</td>\n",
       "      <td>38788.0</td>\n",
       "      <td>26779.0</td>\n",
       "    </tr>\n",
       "    <tr>\n",
       "      <th>2</th>\n",
       "      <td>2000</td>\n",
       "      <td>45844</td>\n",
       "      <td>80739</td>\n",
       "      <td>0.567805</td>\n",
       "      <td>3611.0</td>\n",
       "      <td>11146.0</td>\n",
       "      <td>33961.0</td>\n",
       "      <td>35701.0</td>\n",
       "    </tr>\n",
       "    <tr>\n",
       "      <th>3</th>\n",
       "      <td>1990</td>\n",
       "      <td>29971</td>\n",
       "      <td>83397</td>\n",
       "      <td>0.359377</td>\n",
       "      <td>1422.0</td>\n",
       "      <td>8039.0</td>\n",
       "      <td>23344.0</td>\n",
       "      <td>37057.0</td>\n",
       "    </tr>\n",
       "    <tr>\n",
       "      <th>4</th>\n",
       "      <td>1982</td>\n",
       "      <td>21082</td>\n",
       "      <td>79736</td>\n",
       "      <td>0.264398</td>\n",
       "      <td>615.0</td>\n",
       "      <td>6779.0</td>\n",
       "      <td>17892.0</td>\n",
       "      <td>35237.0</td>\n",
       "    </tr>\n",
       "    <tr>\n",
       "      <th>5</th>\n",
       "      <td>1964</td>\n",
       "      <td>12710</td>\n",
       "      <td>56748</td>\n",
       "      <td>0.223973</td>\n",
       "      <td>416.0</td>\n",
       "      <td>1391.0</td>\n",
       "      <td>4680.0</td>\n",
       "      <td>28330.0</td>\n",
       "    </tr>\n",
       "    <tr>\n",
       "      <th>6</th>\n",
       "      <td>1953</td>\n",
       "      <td>7726</td>\n",
       "      <td>50534</td>\n",
       "      <td>0.152887</td>\n",
       "      <td>NaN</td>\n",
       "      <td>NaN</td>\n",
       "      <td>NaN</td>\n",
       "      <td>NaN</td>\n",
       "    </tr>\n",
       "  </tbody>\n",
       "</table>\n",
       "</div>"
      ],
      "text/plain": [
       "     年份  城镇人口数  乡村人口数    城乡人口比例  每十万人中受大专及以上教育人口  每十万人中受高中和中专教育人口  \\\n",
       "0  2020  90199  50979  1.769336          15467.0          15088.0   \n",
       "1  2010  66557  67419  0.987214           8930.0          14032.0   \n",
       "2  2000  45844  80739  0.567805           3611.0          11146.0   \n",
       "3  1990  29971  83397  0.359377           1422.0           8039.0   \n",
       "4  1982  21082  79736  0.264398            615.0           6779.0   \n",
       "5  1964  12710  56748  0.223973            416.0           1391.0   \n",
       "6  1953   7726  50534  0.152887              NaN              NaN   \n",
       "\n",
       "   每十万人中受初中教育人口  每十万人中受小学教育人口  \n",
       "0       34507.0       24767.0  \n",
       "1       38788.0       26779.0  \n",
       "2       33961.0       35701.0  \n",
       "3       23344.0       37057.0  \n",
       "4       17892.0       35237.0  \n",
       "5        4680.0       28330.0  \n",
       "6           NaN           NaN  "
      ]
     },
     "execution_count": 7,
     "metadata": {},
     "output_type": "execute_result"
    }
   ],
   "source": [
    "data"
   ]
  },
  {
   "cell_type": "code",
   "execution_count": 6,
   "metadata": {},
   "outputs": [
    {
     "data": {
      "text/plain": [
       "[1953, 1964, 1982, 1990, 2000, 2010, 2020]"
      ]
     },
     "execution_count": 6,
     "metadata": {},
     "output_type": "execute_result"
    }
   ],
   "source": [
    "L = list(data['年份'])\n",
    "L.sort()\n",
    "L"
   ]
  },
  {
   "cell_type": "code",
   "execution_count": 9,
   "metadata": {},
   "outputs": [
    {
     "data": {
      "text/plain": [
       "[7726, 12710, 21082, 29971, 45844, 66557, 90199]"
      ]
     },
     "execution_count": 9,
     "metadata": {},
     "output_type": "execute_result"
    }
   ],
   "source": [
    "L = list(data['城镇人口数'])\n",
    "L.sort()\n",
    "L"
   ]
  },
  {
   "cell_type": "code",
   "execution_count": 10,
   "metadata": {},
   "outputs": [
    {
     "data": {
      "text/plain": [
       "[50534, 50979, 56748, 67419, 79736, 80739, 83397]"
      ]
     },
     "execution_count": 10,
     "metadata": {},
     "output_type": "execute_result"
    }
   ],
   "source": [
    "L = list(data['乡村人口数'])\n",
    "L.sort()\n",
    "L"
   ]
  },
  {
   "cell_type": "code",
   "execution_count": 22,
   "metadata": {},
   "outputs": [
    {
     "data": {
      "text/plain": [
       "[0.15, 0.22, 0.26, 0.36, 0.57, 0.99, 1.77]"
      ]
     },
     "execution_count": 22,
     "metadata": {},
     "output_type": "execute_result"
    }
   ],
   "source": [
    "L = list(data['城乡人口比例'])\n",
    "L.sort()\n",
    "i=0\n",
    "for ele in L:\n",
    "    L[i] = eval(format(ele,'.2f'))\n",
    "    i += 1\n",
    "L"
   ]
  },
  {
   "cell_type": "code",
   "execution_count": 14,
   "metadata": {},
   "outputs": [
    {
     "data": {
      "text/plain": [
       "'2.22'"
      ]
     },
     "execution_count": 14,
     "metadata": {},
     "output_type": "execute_result"
    }
   ],
   "source": [
    "format(2.222,'.2f')"
   ]
  },
  {
   "cell_type": "code",
   "execution_count": 6,
   "metadata": {},
   "outputs": [],
   "source": [
    "dt = pd.read_excel('年度数据.xls')"
   ]
  },
  {
   "cell_type": "code",
   "execution_count": 7,
   "metadata": {},
   "outputs": [
    {
     "data": {
      "text/html": [
       "<div>\n",
       "<style scoped>\n",
       "    .dataframe tbody tr th:only-of-type {\n",
       "        vertical-align: middle;\n",
       "    }\n",
       "\n",
       "    .dataframe tbody tr th {\n",
       "        vertical-align: top;\n",
       "    }\n",
       "\n",
       "    .dataframe thead th {\n",
       "        text-align: right;\n",
       "    }\n",
       "</style>\n",
       "<table border=\"1\" class=\"dataframe\">\n",
       "  <thead>\n",
       "    <tr style=\"text-align: right;\">\n",
       "      <th></th>\n",
       "      <th>指标</th>\n",
       "      <th>2022年</th>\n",
       "      <th>2021年</th>\n",
       "      <th>2020年</th>\n",
       "      <th>2019年</th>\n",
       "      <th>2018年</th>\n",
       "      <th>2017年</th>\n",
       "      <th>2016年</th>\n",
       "      <th>2015年</th>\n",
       "      <th>2014年</th>\n",
       "      <th>...</th>\n",
       "      <th>1958年</th>\n",
       "      <th>1957年</th>\n",
       "      <th>1956年</th>\n",
       "      <th>1955年</th>\n",
       "      <th>1954年</th>\n",
       "      <th>1953年</th>\n",
       "      <th>1952年</th>\n",
       "      <th>1951年</th>\n",
       "      <th>1950年</th>\n",
       "      <th>1949年</th>\n",
       "    </tr>\n",
       "  </thead>\n",
       "  <tbody>\n",
       "    <tr>\n",
       "      <th>0</th>\n",
       "      <td>年末总人口(万人)</td>\n",
       "      <td>141175</td>\n",
       "      <td>141260</td>\n",
       "      <td>141212</td>\n",
       "      <td>141008</td>\n",
       "      <td>140541</td>\n",
       "      <td>140011</td>\n",
       "      <td>139232</td>\n",
       "      <td>138326</td>\n",
       "      <td>137646</td>\n",
       "      <td>...</td>\n",
       "      <td>65994</td>\n",
       "      <td>64653</td>\n",
       "      <td>62828</td>\n",
       "      <td>61465</td>\n",
       "      <td>60266</td>\n",
       "      <td>58796</td>\n",
       "      <td>57482</td>\n",
       "      <td>56300</td>\n",
       "      <td>55196</td>\n",
       "      <td>54167</td>\n",
       "    </tr>\n",
       "    <tr>\n",
       "      <th>1</th>\n",
       "      <td>男性人口(万人)</td>\n",
       "      <td>72206</td>\n",
       "      <td>72311</td>\n",
       "      <td>72357</td>\n",
       "      <td>72039</td>\n",
       "      <td>71864</td>\n",
       "      <td>71650</td>\n",
       "      <td>71307</td>\n",
       "      <td>70857</td>\n",
       "      <td>70522</td>\n",
       "      <td>...</td>\n",
       "      <td>34195</td>\n",
       "      <td>33469</td>\n",
       "      <td>32536</td>\n",
       "      <td>31809</td>\n",
       "      <td>31242</td>\n",
       "      <td>30468</td>\n",
       "      <td>29833</td>\n",
       "      <td>29231</td>\n",
       "      <td>28669</td>\n",
       "      <td>28145</td>\n",
       "    </tr>\n",
       "    <tr>\n",
       "      <th>2</th>\n",
       "      <td>女性人口(万人)</td>\n",
       "      <td>68969</td>\n",
       "      <td>68949</td>\n",
       "      <td>68855</td>\n",
       "      <td>68969</td>\n",
       "      <td>68677</td>\n",
       "      <td>68361</td>\n",
       "      <td>67925</td>\n",
       "      <td>67469</td>\n",
       "      <td>67124</td>\n",
       "      <td>...</td>\n",
       "      <td>31799</td>\n",
       "      <td>31184</td>\n",
       "      <td>30292</td>\n",
       "      <td>29656</td>\n",
       "      <td>29024</td>\n",
       "      <td>28328</td>\n",
       "      <td>27649</td>\n",
       "      <td>27069</td>\n",
       "      <td>26527</td>\n",
       "      <td>26022</td>\n",
       "    </tr>\n",
       "    <tr>\n",
       "      <th>3</th>\n",
       "      <td>城镇人口(万人)</td>\n",
       "      <td>92071</td>\n",
       "      <td>91425</td>\n",
       "      <td>90220</td>\n",
       "      <td>88426</td>\n",
       "      <td>86433</td>\n",
       "      <td>84343</td>\n",
       "      <td>81924</td>\n",
       "      <td>79302</td>\n",
       "      <td>76738</td>\n",
       "      <td>...</td>\n",
       "      <td>10721</td>\n",
       "      <td>9949</td>\n",
       "      <td>9185</td>\n",
       "      <td>8285</td>\n",
       "      <td>8249</td>\n",
       "      <td>7826</td>\n",
       "      <td>7163</td>\n",
       "      <td>6632</td>\n",
       "      <td>6169</td>\n",
       "      <td>5765</td>\n",
       "    </tr>\n",
       "    <tr>\n",
       "      <th>4</th>\n",
       "      <td>乡村人口(万人)</td>\n",
       "      <td>49104</td>\n",
       "      <td>49835</td>\n",
       "      <td>50992</td>\n",
       "      <td>52582</td>\n",
       "      <td>54108</td>\n",
       "      <td>55668</td>\n",
       "      <td>57308</td>\n",
       "      <td>59024</td>\n",
       "      <td>60908</td>\n",
       "      <td>...</td>\n",
       "      <td>55273</td>\n",
       "      <td>54704</td>\n",
       "      <td>53643</td>\n",
       "      <td>53180</td>\n",
       "      <td>52017</td>\n",
       "      <td>50970</td>\n",
       "      <td>50319</td>\n",
       "      <td>49668</td>\n",
       "      <td>49027</td>\n",
       "      <td>48402</td>\n",
       "    </tr>\n",
       "  </tbody>\n",
       "</table>\n",
       "<p>5 rows × 75 columns</p>\n",
       "</div>"
      ],
      "text/plain": [
       "          指标   2022年   2021年   2020年   2019年   2018年   2017年   2016年   2015年  \\\n",
       "0  年末总人口(万人)  141175  141260  141212  141008  140541  140011  139232  138326   \n",
       "1   男性人口(万人)   72206   72311   72357   72039   71864   71650   71307   70857   \n",
       "2   女性人口(万人)   68969   68949   68855   68969   68677   68361   67925   67469   \n",
       "3   城镇人口(万人)   92071   91425   90220   88426   86433   84343   81924   79302   \n",
       "4   乡村人口(万人)   49104   49835   50992   52582   54108   55668   57308   59024   \n",
       "\n",
       "    2014年  ...  1958年  1957年  1956年  1955年  1954年  1953年  1952年  1951年  1950年  \\\n",
       "0  137646  ...  65994  64653  62828  61465  60266  58796  57482  56300  55196   \n",
       "1   70522  ...  34195  33469  32536  31809  31242  30468  29833  29231  28669   \n",
       "2   67124  ...  31799  31184  30292  29656  29024  28328  27649  27069  26527   \n",
       "3   76738  ...  10721   9949   9185   8285   8249   7826   7163   6632   6169   \n",
       "4   60908  ...  55273  54704  53643  53180  52017  50970  50319  49668  49027   \n",
       "\n",
       "   1949年  \n",
       "0  54167  \n",
       "1  28145  \n",
       "2  26022  \n",
       "3   5765  \n",
       "4  48402  \n",
       "\n",
       "[5 rows x 75 columns]"
      ]
     },
     "execution_count": 7,
     "metadata": {},
     "output_type": "execute_result"
    }
   ],
   "source": [
    "dt"
   ]
  },
  {
   "cell_type": "code",
   "execution_count": 41,
   "metadata": {},
   "outputs": [
    {
     "name": "stdout",
     "output_type": "stream",
     "text": [
      "[1949, 1950, 1951, 1952, 1953, 1954, 1955, 1956, 1957, 1958, 1959, 1960, 1961, 1962, 1963, 1964, 1965, 1966, 1967, 1968, 1969, 1970, 1971, 1972, 1973, 1974, 1975, 1976, 1977, 1978, 1979, 1980, 1981, 1982, 1983, 1984, 1985, 1986, 1987, 1988, 1989, 1990, 1991, 1992, 1993, 1994, 1995, 1996, 1997, 1998, 1999, 2000, 2001, 2002, 2003, 2004, 2005, 2006, 2007, 2008, 2009, 2010, 2011, 2012, 2013, 2014, 2015, 2016, 2017, 2018, 2019, 2020, 2021, 2022]\n"
     ]
    }
   ],
   "source": [
    "c = dt.columns.values\n",
    "c.sort()\n",
    "c = list(c)\n",
    "c.pop()\n",
    "for i in range(len(c)):\n",
    "    tem = list(c[i])\n",
    "    tem.pop()\n",
    "    c[i] = '' + tem[0] + tem[1] + tem[2] + tem[3]\n",
    "    c[i] = eval(c[i])\n",
    "print(c)"
   ]
  },
  {
   "cell_type": "code",
   "execution_count": 29,
   "metadata": {},
   "outputs": [
    {
     "data": {
      "text/plain": [
       "['1', '2', '3']"
      ]
     },
     "execution_count": 29,
     "metadata": {},
     "output_type": "execute_result"
    }
   ],
   "source": [
    "list('123')"
   ]
  },
  {
   "cell_type": "code",
   "execution_count": 34,
   "metadata": {},
   "outputs": [
    {
     "data": {
      "text/plain": [
       "['1', '2', '3']"
      ]
     },
     "execution_count": 34,
     "metadata": {},
     "output_type": "execute_result"
    }
   ],
   "source": [
    "lst = ['1', '2', '3']\n",
    "map(str,lst)\n",
    "lst"
   ]
  },
  {
   "cell_type": "code",
   "execution_count": 45,
   "metadata": {},
   "outputs": [],
   "source": [
    "y = dt.iloc[0,:]"
   ]
  },
  {
   "cell_type": "code",
   "execution_count": 55,
   "metadata": {},
   "outputs": [
    {
     "data": {
      "text/plain": [
       "[54167,\n",
       " 55196,\n",
       " 56300,\n",
       " 57482,\n",
       " 58796,\n",
       " 60266,\n",
       " 61465,\n",
       " 62828,\n",
       " 64653,\n",
       " 65859,\n",
       " 65994,\n",
       " 66207,\n",
       " 67207,\n",
       " 67296,\n",
       " 69172,\n",
       " 70499,\n",
       " 72538,\n",
       " 74542,\n",
       " 76368,\n",
       " 78534,\n",
       " 80671,\n",
       " 82992,\n",
       " 85229,\n",
       " 87177,\n",
       " 89211,\n",
       " 90859,\n",
       " 92420,\n",
       " 93717,\n",
       " 94974,\n",
       " 96259,\n",
       " 97542,\n",
       " 98705,\n",
       " 100072,\n",
       " 101654,\n",
       " 103008,\n",
       " 104357,\n",
       " 105851,\n",
       " 107507,\n",
       " 109300,\n",
       " 111026,\n",
       " 112704,\n",
       " 114333,\n",
       " 115823,\n",
       " 117171,\n",
       " 118517,\n",
       " 119850,\n",
       " 121121,\n",
       " 122389,\n",
       " 123626,\n",
       " 124761,\n",
       " 125786,\n",
       " 126743,\n",
       " 127627,\n",
       " 128453,\n",
       " 129227,\n",
       " 129988,\n",
       " 130756,\n",
       " 131448,\n",
       " 132129,\n",
       " 132802,\n",
       " 133450,\n",
       " 134091,\n",
       " 134916,\n",
       " 135922,\n",
       " 136726,\n",
       " 137646,\n",
       " 138326,\n",
       " 139232,\n",
       " 140011,\n",
       " 140541,\n",
       " 141008,\n",
       " 141175,\n",
       " 141212,\n",
       " 141260]"
      ]
     },
     "execution_count": 55,
     "metadata": {},
     "output_type": "execute_result"
    }
   ],
   "source": [
    "l = y.values\n",
    "# l.sort()\n",
    "l = list(l)\n",
    "l.pop(0)\n",
    "l.sort()\n",
    "l"
   ]
  },
  {
   "cell_type": "code",
   "execution_count": 3,
   "metadata": {},
   "outputs": [],
   "source": [
    "trans = pd.read_excel('B0706.xls',index_col=0)"
   ]
  },
  {
   "cell_type": "code",
   "execution_count": 4,
   "metadata": {},
   "outputs": [
    {
     "name": "stdout",
     "output_type": "stream",
     "text": [
      " [{name:'北京' }, { name:'北京',value:0 }], \n",
      " [{name:'北京' }, { name:'西藏',value:162 }], \n",
      " [{name:'北京' }, { name:'青海',value:222 }], \n",
      " [{name:'北京' }, { name:'宁夏',value:547 }], \n",
      " [{name:'北京' }, { name:'广西',value:609 }], \n",
      " [{name:'北京' }, { name:'贵州',value:649 }], \n",
      " [{name:'北京' }, { name:'云南',value:703 }], \n",
      " [{name:'北京' }, { name:'江西',value:706 }], \n",
      " [{name:'北京' }, { name:'新疆',value:748 }], \n",
      " [{name:'北京' }, { name:'甘肃',value:759 }], \n",
      " [{name:'北京' }, { name:'黑龙江',value:789 }], \n",
      " [{name:'北京' }, { name:'海南',value:822 }], \n",
      " [{name:'北京' }, { name:'吉林',value:919 }], \n",
      " [{name:'北京' }, { name:'重庆',value:969 }], \n",
      " [{name:'北京' }, { name:'湖南',value:1017 }], \n",
      " [{name:'北京' }, { name:'福建',value:1177 }], \n",
      " [{name:'北京' }, { name:'山西',value:1713 }], \n",
      " [{name:'北京' }, { name:'内蒙古',value:1733 }], \n",
      " [{name:'北京' }, { name:'湖北',value:1927 }], \n",
      " [{name:'北京' }, { name:'陕西',value:1980 }], \n",
      " [{name:'北京' }, { name:'河南',value:2037 }], \n",
      " [{name:'北京' }, { name:'辽宁',value:2103 }], \n",
      " [{name:'北京' }, { name:'安徽',value:2139 }], \n",
      " [{name:'北京' }, { name:'四川',value:2706 }], \n",
      " [{name:'北京' }, { name:'江苏',value:2795 }], \n",
      " [{name:'北京' }, { name:'浙江',value:3048 }], \n",
      " [{name:'北京' }, { name:'山东',value:3268 }], \n",
      " [{name:'北京' }, { name:'上海',value:3781 }], \n",
      " [{name:'北京' }, { name:'天津',value:4836 }], \n",
      " [{name:'北京' }, { name:'广东',value:5923 }], \n",
      " [{name:'北京' }, { name:'河北',value:13861 }], \n",
      " [{name:'北京' }, { name:'全国',value:64648 }], \n"
     ]
    }
   ],
   "source": [
    "trans = pd.read_excel('B0706.xls',index_col=0)\n",
    "beijing = trans['北京'].sort_values()\n",
    "for i in range(len(beijing)):\n",
    "    tem = beijing.index[i]\n",
    "    tem = tem.replace(\" \",\"\")\n",
    "    str_ = \" [{a}name:\\'北京\\' {b}, {c} name:\\'{city}\\',value:{value} {d}], \".format(\n",
    "        city = tem,\n",
    "        value = beijing.iloc[i],\n",
    "        a = '{',\n",
    "        b = '}',\n",
    "        c = '{',\n",
    "        d = '}'\n",
    "                                                                                   )\n",
    "    print(str_)"
   ]
  },
  {
   "cell_type": "code",
   "execution_count": 5,
   "metadata": {},
   "outputs": [
    {
     "name": "stdout",
     "output_type": "stream",
     "text": [
      " [{name:'四川' }, { name:'四川',value:0 }], \n",
      " [{name:'四川' }, { name:'吉林',value:2470 }], \n",
      " [{name:'四川' }, { name:'宁夏',value:3507 }], \n",
      " [{name:'四川' }, { name:'黑龙江',value:3514 }], \n",
      " [{name:'四川' }, { name:'青海',value:4889 }], \n",
      " [{name:'四川' }, { name:'内蒙古',value:6044 }], \n",
      " [{name:'四川' }, { name:'天津',value:6633 }], \n",
      " [{name:'四川' }, { name:'甘肃',value:8014 }], \n",
      " [{name:'四川' }, { name:'江西',value:8152 }], \n",
      " [{name:'四川' }, { name:'辽宁',value:9374 }], \n",
      " [{name:'四川' }, { name:'广西',value:9552 }], \n",
      " [{name:'四川' }, { name:'山西',value:9615 }], \n",
      " [{name:'四川' }, { name:'湖南',value:10562 }], \n",
      " [{name:'四川' }, { name:'河南',value:10564 }], \n",
      " [{name:'四川' }, { name:'海南',value:10983 }], \n",
      " [{name:'四川' }, { name:'安徽',value:12012 }], \n",
      " [{name:'四川' }, { name:'西藏',value:12954 }], \n",
      " [{name:'四川' }, { name:'陕西',value:18184 }], \n",
      " [{name:'四川' }, { name:'河北',value:18814 }], \n",
      " [{name:'四川' }, { name:'山东',value:19607 }], \n",
      " [{name:'四川' }, { name:'湖北',value:23167 }], \n",
      " [{name:'四川' }, { name:'北京',value:29352 }], \n",
      " [{name:'四川' }, { name:'贵州',value:36002 }], \n",
      " [{name:'四川' }, { name:'云南',value:49094 }], \n",
      " [{name:'四川' }, { name:'上海',value:55422 }], \n",
      " [{name:'四川' }, { name:'江苏',value:76452 }], \n",
      " [{name:'四川' }, { name:'新疆',value:78667 }], \n",
      " [{name:'四川' }, { name:'福建',value:83858 }], \n",
      " [{name:'四川' }, { name:'重庆',value:139749 }], \n",
      " [{name:'四川' }, { name:'浙江',value:159977 }], \n",
      " [{name:'四川' }, { name:'广东',value:303379 }], \n",
      " [{name:'四川' }, { name:'全国',value:1220563 }], \n"
     ]
    }
   ],
   "source": [
    "trans = pd.read_excel('B0706.xls',index_col=0)\n",
    "beijing = trans['四川'].sort_values()\n",
    "for i in range(len(beijing)):\n",
    "    tem = beijing.index[i]\n",
    "    tem = tem.replace(\" \",\"\")\n",
    "    str_ = \" [{a}name:\\'四川\\' {b}, {c} name:\\'{city}\\',value:{value} {d}], \".format(\n",
    "        city = tem,\n",
    "        value = beijing.iloc[i],\n",
    "        a = '{',\n",
    "        b = '}',\n",
    "        c = '{',\n",
    "        d = '}'\n",
    "                                                                                   )\n",
    "    print(str_)"
   ]
  },
  {
   "cell_type": "code",
   "execution_count": 6,
   "metadata": {},
   "outputs": [
    {
     "name": "stdout",
     "output_type": "stream",
     "text": [
      " [{name:'海南' }, { name:'海南',value:0 }], \n",
      " [{name:'海南' }, { name:'西藏',value:26 }], \n",
      " [{name:'海南' }, { name:'青海',value:48 }], \n",
      " [{name:'海南' }, { name:'宁夏',value:89 }], \n",
      " [{name:'海南' }, { name:'内蒙古',value:126 }], \n",
      " [{name:'海南' }, { name:'甘肃',value:186 }], \n",
      " [{name:'海南' }, { name:'黑龙江',value:268 }], \n",
      " [{name:'海南' }, { name:'辽宁',value:354 }], \n",
      " [{name:'海南' }, { name:'山西',value:361 }], \n",
      " [{name:'海南' }, { name:'天津',value:363 }], \n",
      " [{name:'海南' }, { name:'吉林',value:450 }], \n",
      " [{name:'海南' }, { name:'河北',value:494 }], \n",
      " [{name:'海南' }, { name:'新疆',value:499 }], \n",
      " [{name:'海南' }, { name:'陕西',value:505 }], \n",
      " [{name:'海南' }, { name:'安徽',value:514 }], \n",
      " [{name:'海南' }, { name:'贵州',value:532 }], \n",
      " [{name:'海南' }, { name:'云南',value:601 }], \n",
      " [{name:'海南' }, { name:'河南',value:616 }], \n",
      " [{name:'海南' }, { name:'山东',value:723 }], \n",
      " [{name:'海南' }, { name:'重庆',value:794 }], \n",
      " [{name:'海南' }, { name:'江西',value:1112 }], \n",
      " [{name:'海南' }, { name:'北京',value:1227 }], \n",
      " [{name:'海南' }, { name:'四川',value:1315 }], \n",
      " [{name:'海南' }, { name:'江苏',value:1397 }], \n",
      " [{name:'海南' }, { name:'湖北',value:1402 }], \n",
      " [{name:'海南' }, { name:'福建',value:1462 }], \n",
      " [{name:'海南' }, { name:'湖南',value:1497 }], \n",
      " [{name:'海南' }, { name:'浙江',value:1618 }], \n",
      " [{name:'海南' }, { name:'上海',value:1836 }], \n",
      " [{name:'海南' }, { name:'广西',value:1950 }], \n",
      " [{name:'海南' }, { name:'广东',value:27587 }], \n",
      " [{name:'海南' }, { name:'全国',value:49952 }], \n"
     ]
    }
   ],
   "source": [
    "trans = pd.read_excel('B0706.xls',index_col=0)\n",
    "beijing = trans['海南'].sort_values()\n",
    "for i in range(len(beijing)):\n",
    "    tem = beijing.index[i]\n",
    "    tem = tem.replace(\" \",\"\")\n",
    "    str_ = \" [{a}name:\\'海南\\' {b}, {c} name:\\'{city}\\',value:{value} {d}], \".format(\n",
    "        city = tem,\n",
    "        value = beijing.iloc[i],\n",
    "        a = '{',\n",
    "        b = '}',\n",
    "        c = '{',\n",
    "        d = '}'\n",
    "                                                                                   )\n",
    "    print(str_)"
   ]
  },
  {
   "cell_type": "code",
   "execution_count": null,
   "metadata": {},
   "outputs": [],
   "source": []
  }
 ],
 "metadata": {
  "kernelspec": {
   "display_name": "Python 3",
   "language": "python",
   "name": "python3"
  },
  "language_info": {
   "codemirror_mode": {
    "name": "ipython",
    "version": 3
   },
   "file_extension": ".py",
   "mimetype": "text/x-python",
   "name": "python",
   "nbconvert_exporter": "python",
   "pygments_lexer": "ipython3",
   "version": "3.7.3"
  },
  "orig_nbformat": 4
 },
 "nbformat": 4,
 "nbformat_minor": 2
}
